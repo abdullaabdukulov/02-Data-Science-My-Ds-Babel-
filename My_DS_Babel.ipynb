{
  "nbformat": 4,
  "nbformat_minor": 0,
  "metadata": {
    "colab": {
      "name": "My DS Babel.ipynb",
      "provenance": [],
      "collapsed_sections": [],
      "authorship_tag": "ABX9TyNj0roE6X8BquBD2UPNd0GY"
    },
    "kernelspec": {
      "name": "python3",
      "display_name": "Python 3"
    },
    "language_info": {
      "name": "python"
    }
  },
  "cells": [
    {
      "cell_type": "code",
      "execution_count": null,
      "metadata": {
        "id": "kCd7RHv81rrl"
      },
      "outputs": [],
      "source": [
        "import pandas as pd\n",
        "import sqlite3\n"
      ]
    },
    {
      "cell_type": "code",
      "source": [
        "class Volcans:\n",
        "    def sql_csv(self, sql):\n",
        "        conn = sqlite3.connect(sql)\n",
        "        dataframe = pd.read_sql(\"SELECT * FROM fault_lines\", conn)\n",
        "        conn.close()\n",
        "        return dataframe.to_csv('list_fault_lines.csv', index=False)\n",
        "    \n",
        "    def csv_sql(self, csv):\n",
        "       df = pd.read_csv(csv)\n",
        "       conn = sqlite3.connect('list_volcan.db')\n",
        "       return df.to_sql('Vulcan', conn, index=False, if_exists=\"replace\")\n"
      ],
      "metadata": {
        "id": "KFzear-UJF_U"
      },
      "execution_count": null,
      "outputs": []
    },
    {
      "cell_type": "code",
      "source": [
        "def main():\n",
        "    url_sql = \"/content/all_fault_line.db\"\n",
        "    url_csv = \"/content/list_volcano.csv\"\n",
        "\n",
        "    result = Volcans()\n",
        "\n",
        "    result.csv_sql(url_csv)\n",
        "    result.sql_csv(url_sql)\n",
        "\n",
        "\n",
        "main()"
      ],
      "metadata": {
        "id": "6abYz7QRigD2"
      },
      "execution_count": null,
      "outputs": []
    }
  ]
}